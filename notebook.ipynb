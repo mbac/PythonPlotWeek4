{
  "cells": [
    {
      "cell_type": "markdown",
      "metadata": {
        "tags": [],
        "cell_id": "00000-e8616331-6ad7-4760-80f0-31f30bca28bc",
        "deepnote_to_be_reexecuted": true,
        "source_hash": "7993fadf",
        "deepnote_cell_type": "markdown"
      },
      "source": "# UMichigan Applied Plotting, Week 4 Assignment ",
      "execution_count": null
    },
    {
      "cell_type": "code",
      "source": "import numpy as np\nimport pandas as pd\nimport matplotlib.pyplot as plt\nimport seaborn as sbn\nimport pathlib as path\nimport requests as r\n\n%matplotlib widget",
      "metadata": {
        "tags": [],
        "cell_id": "00001-7176a3b2-dd42-48ed-b3fb-8e95392a2461",
        "deepnote_to_be_reexecuted": false,
        "source_hash": "13cacd7e",
        "execution_millis": 1345,
        "execution_start": 1617056859392,
        "deepnote_cell_type": "code"
      },
      "outputs": [],
      "execution_count": 1
    },
    {
      "cell_type": "code",
      "source": "urls = []\n\n# Check if data files exist\ndatafiles = [\"aa_population.csv\", \"aa_income.csv\", \"aa_prices.csv\"]\n\ndatapaths = [path.Path(onefile) for onefile in datafiles]\n\navailable = [item.exists() for item in datapaths]\n\nfiles = {x: y for x in datapaths for y in available}\n\nprint(truth[])\n\nfor dfile in datapaths:\n    if not available:\n        print(\"Dangit\")",
      "metadata": {
        "tags": [],
        "cell_id": "00003-a168d195-ac36-48b4-b75c-67587ac14c2b",
        "deepnote_to_be_reexecuted": false,
        "source_hash": "b5681ff4",
        "execution_millis": 544,
        "execution_start": 1617057353910,
        "deepnote_cell_type": "code"
      },
      "outputs": [
        {
          "output_type": "error",
          "ename": "KeyError",
          "evalue": "1",
          "traceback": [
            "\u001b[0;31m---------------------------------------------------------------------------\u001b[0m",
            "\u001b[0;31mKeyError\u001b[0m                                  Traceback (most recent call last)",
            "\u001b[0;32m<ipython-input-14-a2522f273167>\u001b[0m in \u001b[0;36m<module>\u001b[0;34m\u001b[0m\n\u001b[1;32m      8\u001b[0m \u001b[0mtruth\u001b[0m \u001b[0;34m=\u001b[0m \u001b[0;34m{\u001b[0m\u001b[0mx\u001b[0m\u001b[0;34m:\u001b[0m \u001b[0my\u001b[0m \u001b[0;32mfor\u001b[0m \u001b[0mx\u001b[0m \u001b[0;32min\u001b[0m \u001b[0mdatapaths\u001b[0m \u001b[0;32mfor\u001b[0m \u001b[0my\u001b[0m \u001b[0;32min\u001b[0m \u001b[0mavailable\u001b[0m\u001b[0;34m}\u001b[0m\u001b[0;34m\u001b[0m\u001b[0;34m\u001b[0m\u001b[0m\n\u001b[1;32m      9\u001b[0m \u001b[0;34m\u001b[0m\u001b[0m\n\u001b[0;32m---> 10\u001b[0;31m \u001b[0mprint\u001b[0m\u001b[0;34m(\u001b[0m\u001b[0mtruth\u001b[0m\u001b[0;34m[\u001b[0m\u001b[0;36m1\u001b[0m\u001b[0;34m]\u001b[0m\u001b[0;34m)\u001b[0m\u001b[0;34m\u001b[0m\u001b[0;34m\u001b[0m\u001b[0m\n\u001b[0m\u001b[1;32m     11\u001b[0m \u001b[0;34m\u001b[0m\u001b[0m\n\u001b[1;32m     12\u001b[0m \u001b[0;32mfor\u001b[0m \u001b[0mdfile\u001b[0m \u001b[0;32min\u001b[0m \u001b[0mdatapaths\u001b[0m\u001b[0;34m:\u001b[0m\u001b[0;34m\u001b[0m\u001b[0;34m\u001b[0m\u001b[0m\n",
            "\u001b[0;31mKeyError\u001b[0m: 1"
          ]
        }
      ],
      "execution_count": 14
    },
    {
      "cell_type": "code",
      "source": "print(available)",
      "metadata": {
        "tags": [],
        "cell_id": "00003-13212898-3c0c-4110-b9b5-c04fb89c35f6",
        "deepnote_to_be_reexecuted": false,
        "source_hash": "59b36359",
        "execution_start": 1617057045115,
        "execution_millis": 13,
        "deepnote_cell_type": "code"
      },
      "outputs": [
        {
          "name": "stdout",
          "text": "[False, False, False]\n",
          "output_type": "stream"
        }
      ],
      "execution_count": 9
    },
    {
      "cell_type": "code",
      "source": "",
      "metadata": {
        "tags": [],
        "cell_id": "00004-d21cf354-d4eb-4293-9324-e49b34d12f53",
        "deepnote_cell_type": "code"
      },
      "outputs": [],
      "execution_count": null
    }
  ],
  "nbformat": 4,
  "nbformat_minor": 2,
  "metadata": {
    "orig_nbformat": 2,
    "deepnote_notebook_id": "307955d6-d38e-46fb-82aa-95e2bf477205",
    "deepnote": {
      "is_reactive": false
    },
    "deepnote_execution_queue": []
  }
}